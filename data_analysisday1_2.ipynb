{
 "cells": [
  {
   "cell_type": "code",
   "execution_count": 1,
   "id": "6ade03f4",
   "metadata": {},
   "outputs": [],
   "source": [
    "import numpy as np\n",
    "import pandas as pd\n"
   ]
  },
  {
   "cell_type": "code",
   "execution_count": 5,
   "id": "996328ea",
   "metadata": {},
   "outputs": [],
   "source": [
    "salesfile = pd.read_csv(\n",
    "    'data/datasales.csv',parse_dates=['date'])"
   ]
  },
  {
   "cell_type": "code",
   "execution_count": 6,
   "id": "593cb56f",
   "metadata": {},
   "outputs": [
    {
     "data": {
      "text/html": [
       "<div>\n",
       "<style scoped>\n",
       "    .dataframe tbody tr th:only-of-type {\n",
       "        vertical-align: middle;\n",
       "    }\n",
       "\n",
       "    .dataframe tbody tr th {\n",
       "        vertical-align: top;\n",
       "    }\n",
       "\n",
       "    .dataframe thead th {\n",
       "        text-align: right;\n",
       "    }\n",
       "</style>\n",
       "<table border=\"1\" class=\"dataframe\">\n",
       "  <thead>\n",
       "    <tr style=\"text-align: right;\">\n",
       "      <th></th>\n",
       "      <th>date</th>\n",
       "      <th>invoice</th>\n",
       "      <th>customer</th>\n",
       "      <th>shop</th>\n",
       "      <th>product</th>\n",
       "      <th>variety</th>\n",
       "      <th>length</th>\n",
       "      <th>stems</th>\n",
       "      <th>price_per_stem</th>\n",
       "      <th>total</th>\n",
       "      <th>currency</th>\n",
       "    </tr>\n",
       "  </thead>\n",
       "  <tbody>\n",
       "    <tr>\n",
       "      <th>0</th>\n",
       "      <td>2023-01-27</td>\n",
       "      <td>38200</td>\n",
       "      <td>BAMA BLOMSTER TRADINGS AS</td>\n",
       "      <td>BAMA BLOMSTER TRADINGS AS</td>\n",
       "      <td>GYPSO</td>\n",
       "      <td>GYPSOPHILA</td>\n",
       "      <td>45 CMS</td>\n",
       "      <td>3330</td>\n",
       "      <td>0.004044</td>\n",
       "      <td>605.993</td>\n",
       "      <td>EURO</td>\n",
       "    </tr>\n",
       "    <tr>\n",
       "      <th>1</th>\n",
       "      <td>2023-01-27</td>\n",
       "      <td>38200</td>\n",
       "      <td>BAMA BLOMSTER TRADINGS AS</td>\n",
       "      <td>BAMA BLOMSTER TRADINGS AS</td>\n",
       "      <td>ROSES</td>\n",
       "      <td>ATHENA</td>\n",
       "      <td>45 CMS</td>\n",
       "      <td>3330</td>\n",
       "      <td>0.004044</td>\n",
       "      <td>605.993</td>\n",
       "      <td>EURO</td>\n",
       "    </tr>\n",
       "    <tr>\n",
       "      <th>2</th>\n",
       "      <td>2023-01-27</td>\n",
       "      <td>38200</td>\n",
       "      <td>BAMA BLOMSTER TRADINGS AS</td>\n",
       "      <td>BAMA BLOMSTER TRADINGS AS</td>\n",
       "      <td>ROSES</td>\n",
       "      <td>BELLE ROSE</td>\n",
       "      <td>45 CMS</td>\n",
       "      <td>2700</td>\n",
       "      <td>0.004044</td>\n",
       "      <td>491.346</td>\n",
       "      <td>EURO</td>\n",
       "    </tr>\n",
       "    <tr>\n",
       "      <th>3</th>\n",
       "      <td>2023-01-27</td>\n",
       "      <td>38200</td>\n",
       "      <td>BAMA BLOMSTER TRADINGS AS</td>\n",
       "      <td>BAMA BLOMSTER TRADINGS AS</td>\n",
       "      <td>ROSES</td>\n",
       "      <td>COOL WATER</td>\n",
       "      <td>45 CMS</td>\n",
       "      <td>630</td>\n",
       "      <td>0.004044</td>\n",
       "      <td>114.647</td>\n",
       "      <td>EURO</td>\n",
       "    </tr>\n",
       "    <tr>\n",
       "      <th>4</th>\n",
       "      <td>2023-01-27</td>\n",
       "      <td>38200</td>\n",
       "      <td>BAMA BLOMSTER TRADINGS AS</td>\n",
       "      <td>BAMA BLOMSTER TRADINGS AS</td>\n",
       "      <td>ROSES</td>\n",
       "      <td>LABELLE</td>\n",
       "      <td>45 CMS</td>\n",
       "      <td>3330</td>\n",
       "      <td>0.004044</td>\n",
       "      <td>605.993</td>\n",
       "      <td>EURO</td>\n",
       "    </tr>\n",
       "  </tbody>\n",
       "</table>\n",
       "</div>"
      ],
      "text/plain": [
       "        date  invoice                   customer                       shop  \\\n",
       "0 2023-01-27    38200  BAMA BLOMSTER TRADINGS AS  BAMA BLOMSTER TRADINGS AS   \n",
       "1 2023-01-27    38200  BAMA BLOMSTER TRADINGS AS  BAMA BLOMSTER TRADINGS AS   \n",
       "2 2023-01-27    38200  BAMA BLOMSTER TRADINGS AS  BAMA BLOMSTER TRADINGS AS   \n",
       "3 2023-01-27    38200  BAMA BLOMSTER TRADINGS AS  BAMA BLOMSTER TRADINGS AS   \n",
       "4 2023-01-27    38200  BAMA BLOMSTER TRADINGS AS  BAMA BLOMSTER TRADINGS AS   \n",
       "\n",
       "  product     variety  length  stems  price_per_stem    total currency  \n",
       "0   GYPSO  GYPSOPHILA  45 CMS   3330        0.004044  605.993     EURO  \n",
       "1   ROSES      ATHENA  45 CMS   3330        0.004044  605.993     EURO  \n",
       "2   ROSES  BELLE ROSE  45 CMS   2700        0.004044  491.346     EURO  \n",
       "3   ROSES  COOL WATER  45 CMS    630        0.004044  114.647     EURO  \n",
       "4   ROSES     LABELLE  45 CMS   3330        0.004044  605.993     EURO  "
      ]
     },
     "execution_count": 6,
     "metadata": {},
     "output_type": "execute_result"
    }
   ],
   "source": [
    "salesfile.head()"
   ]
  },
  {
   "cell_type": "code",
   "execution_count": 8,
   "id": "af7d7938",
   "metadata": {},
   "outputs": [
    {
     "data": {
      "text/plain": [
       "(6657, 11)"
      ]
     },
     "execution_count": 8,
     "metadata": {},
     "output_type": "execute_result"
    }
   ],
   "source": [
    "salesfile.shape"
   ]
  },
  {
   "cell_type": "code",
   "execution_count": 14,
   "id": "cea1ec6a",
   "metadata": {},
   "outputs": [
    {
     "data": {
      "text/plain": [
       "73227"
      ]
     },
     "execution_count": 14,
     "metadata": {},
     "output_type": "execute_result"
    }
   ],
   "source": [
    "salesfile.size"
   ]
  },
  {
   "cell_type": "code",
   "execution_count": 12,
   "id": "f73d4103",
   "metadata": {},
   "outputs": [
    {
     "name": "stdout",
     "output_type": "stream",
     "text": [
      "<class 'pandas.core.frame.DataFrame'>\n",
      "RangeIndex: 6657 entries, 0 to 6656\n",
      "Data columns (total 11 columns):\n",
      " #   Column          Non-Null Count  Dtype         \n",
      "---  ------          --------------  -----         \n",
      " 0   date            6657 non-null   datetime64[ns]\n",
      " 1   invoice         6657 non-null   int64         \n",
      " 2   customer        6657 non-null   object        \n",
      " 3   shop            6657 non-null   object        \n",
      " 4   product         6657 non-null   object        \n",
      " 5   variety         6657 non-null   object        \n",
      " 6   length          6657 non-null   object        \n",
      " 7   stems           6657 non-null   int64         \n",
      " 8   price_per_stem  6657 non-null   float64       \n",
      " 9   total           6657 non-null   float64       \n",
      " 10  currency        6657 non-null   object        \n",
      "dtypes: datetime64[ns](1), float64(2), int64(2), object(6)\n",
      "memory usage: 572.2+ KB\n"
     ]
    }
   ],
   "source": [
    "salesfile.info()"
   ]
  },
  {
   "cell_type": "code",
   "execution_count": 18,
   "id": "0d43597a",
   "metadata": {},
   "outputs": [
    {
     "data": {
      "text/html": [
       "<div>\n",
       "<style scoped>\n",
       "    .dataframe tbody tr th:only-of-type {\n",
       "        vertical-align: middle;\n",
       "    }\n",
       "\n",
       "    .dataframe tbody tr th {\n",
       "        vertical-align: top;\n",
       "    }\n",
       "\n",
       "    .dataframe thead th {\n",
       "        text-align: right;\n",
       "    }\n",
       "</style>\n",
       "<table border=\"1\" class=\"dataframe\">\n",
       "  <thead>\n",
       "    <tr style=\"text-align: right;\">\n",
       "      <th></th>\n",
       "      <th>invoice</th>\n",
       "      <th>stems</th>\n",
       "      <th>price_per_stem</th>\n",
       "      <th>total</th>\n",
       "    </tr>\n",
       "  </thead>\n",
       "  <tbody>\n",
       "    <tr>\n",
       "      <th>count</th>\n",
       "      <td>6657.000000</td>\n",
       "      <td>6657.000000</td>\n",
       "      <td>6657.000000</td>\n",
       "      <td>6657.000000</td>\n",
       "    </tr>\n",
       "    <tr>\n",
       "      <th>mean</th>\n",
       "      <td>38218.624906</td>\n",
       "      <td>2638.867808</td>\n",
       "      <td>0.115517</td>\n",
       "      <td>374.568560</td>\n",
       "    </tr>\n",
       "    <tr>\n",
       "      <th>std</th>\n",
       "      <td>223.487138</td>\n",
       "      <td>4395.432986</td>\n",
       "      <td>0.229792</td>\n",
       "      <td>2028.150867</td>\n",
       "    </tr>\n",
       "    <tr>\n",
       "      <th>min</th>\n",
       "      <td>37856.000000</td>\n",
       "      <td>10.000000</td>\n",
       "      <td>0.000000</td>\n",
       "      <td>0.000000</td>\n",
       "    </tr>\n",
       "    <tr>\n",
       "      <th>25%</th>\n",
       "      <td>38027.000000</td>\n",
       "      <td>560.000000</td>\n",
       "      <td>0.075000</td>\n",
       "      <td>58.400000</td>\n",
       "    </tr>\n",
       "    <tr>\n",
       "      <th>50%</th>\n",
       "      <td>38193.000000</td>\n",
       "      <td>1350.000000</td>\n",
       "      <td>0.091700</td>\n",
       "      <td>131.400000</td>\n",
       "    </tr>\n",
       "    <tr>\n",
       "      <th>75%</th>\n",
       "      <td>38417.000000</td>\n",
       "      <td>3000.000000</td>\n",
       "      <td>0.111000</td>\n",
       "      <td>288.000000</td>\n",
       "    </tr>\n",
       "    <tr>\n",
       "      <th>max</th>\n",
       "      <td>38608.000000</td>\n",
       "      <td>90000.000000</td>\n",
       "      <td>4.310344</td>\n",
       "      <td>102413.797000</td>\n",
       "    </tr>\n",
       "  </tbody>\n",
       "</table>\n",
       "</div>"
      ],
      "text/plain": [
       "            invoice         stems  price_per_stem          total\n",
       "count   6657.000000   6657.000000     6657.000000    6657.000000\n",
       "mean   38218.624906   2638.867808        0.115517     374.568560\n",
       "std      223.487138   4395.432986        0.229792    2028.150867\n",
       "min    37856.000000     10.000000        0.000000       0.000000\n",
       "25%    38027.000000    560.000000        0.075000      58.400000\n",
       "50%    38193.000000   1350.000000        0.091700     131.400000\n",
       "75%    38417.000000   3000.000000        0.111000     288.000000\n",
       "max    38608.000000  90000.000000        4.310344  102413.797000"
      ]
     },
     "execution_count": 18,
     "metadata": {},
     "output_type": "execute_result"
    }
   ],
   "source": [
    "salesfile.describe()"
   ]
  },
  {
   "cell_type": "code",
   "execution_count": null,
   "id": "d86a4b51",
   "metadata": {},
   "outputs": [],
   "source": []
  }
 ],
 "metadata": {
  "kernelspec": {
   "display_name": "Python 3 (ipykernel)",
   "language": "python",
   "name": "python3"
  },
  "language_info": {
   "codemirror_mode": {
    "name": "ipython",
    "version": 3
   },
   "file_extension": ".py",
   "mimetype": "text/x-python",
   "name": "python",
   "nbconvert_exporter": "python",
   "pygments_lexer": "ipython3",
   "version": "3.9.13"
  }
 },
 "nbformat": 4,
 "nbformat_minor": 5
}
